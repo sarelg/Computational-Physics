{
 "cells": [
  {
   "cell_type": "code",
   "execution_count": 14,
   "id": "a639da52-1c2b-49b9-b85d-ab48edd01c03",
   "metadata": {},
   "outputs": [],
   "source": [
    "import numpy as np\n",
    "import matplotlib.pyplot as plt \n",
    "from scipy import integrate\n",
    "import json"
   ]
  },
  {
   "cell_type": "code",
   "execution_count": 2,
   "id": "00f97260-d8c4-49ca-8174-5436fbf38d18",
   "metadata": {},
   "outputs": [],
   "source": [
    "# Constants in SI units\n",
    "\n",
    "# Gravitational constant\n",
    "G = 6.67430*10**(-11) # m^3 / ( kg * s^2 )\n",
    "\n",
    "# Masses\n",
    "msun = 1.9884 * 10**30 # kg\n",
    "mearth = 5.9723 * 10**24 # kg\n",
    "mmoon = 7.349 * 10**22 # kg\n",
    "\n",
    "# Distances (average)\n",
    "rSunEarth = 1.4960 * 10**11 # m\n",
    "rEarthMoon = 3.850 * 10**8 # m\n",
    "\n",
    "# Velocities (average)\n",
    "vEarth = 29780 # m/s (Trajectory around sun)\n",
    "vMoon = 1022 # m/s (Trajectory around earth)"
   ]
  },
  {
   "cell_type": "code",
   "execution_count": 3,
   "id": "b4e32da5-070e-4624-b5ff-3569f7b4aa12",
   "metadata": {},
   "outputs": [],
   "source": [
    "m1 = msun\n",
    "m2 = mearth\n",
    "m3 = mmoon\n",
    "\n",
    "def f_ODE(t, r):\n",
    "    r1 = r[0:3]\n",
    "    r2 = r[3:6]\n",
    "    r3 = r[6:9]\n",
    "    r12 = np.linalg.norm(r1 - r2)\n",
    "    r31 = np.linalg.norm(r3 - r1)\n",
    "    r23 = np.linalg.norm(r2 - r3)\n",
    "    eqr = G * np.array([\n",
    "        - (m2/r12**3 + m3/r31**3) * r1 + m2/r12**3 * r2 + m3/r31**3 * r3,\n",
    "        m1/r12**3 * r1 - (m1/r12**3 + m3/r23**3) * r2 + m3/r23**3 * r3,\n",
    "        m1/r31**3 * r1 + m2/r23**3 * r2 - (m1/r31**3 + m2/r23**3) * r3\n",
    "    ])\n",
    "    return np.concatenate([r[9:18], eqr.flatten()])"
   ]
  },
  {
   "cell_type": "code",
   "execution_count": 4,
   "id": "30c9cd9a-a184-4e35-96e0-9fc6caf5a762",
   "metadata": {},
   "outputs": [],
   "source": [
    "# sun\n",
    "r1start = np.array([0, 0, 0])\n",
    "v1start = np.array([0, 0, 0])\n",
    "\n",
    "# earth\n",
    "r2start = np.array([rSunEarth, 0, 0])\n",
    "v2start = np.array([0, vEarth, 0])\n",
    "\n",
    "# moon\n",
    "r3start = np.array([rSunEarth, rEarthMoon, 0])\n",
    "v3start = np.array([-vMoon, vEarth, 0])\n",
    "\n",
    "r0 = np.concatenate([r1start, r2start, r3start, v1start, v2start, v3start])"
   ]
  },
  {
   "cell_type": "code",
   "execution_count": 25,
   "id": "d5d4dafa-3565-4c13-9499-50a2f8b04e73",
   "metadata": {},
   "outputs": [],
   "source": [
    "tStart = 0\n",
    "\n",
    "# 1 year = 60 * 60 * 24 * 365.25 seconds\n",
    "tEnd = 60 * 60 * 24 * 365.25 * 1.0\n",
    "\n",
    "solution = integrate.solve_ivp(f_ODE, [tStart, tEnd], r0, method='RK45', t_eval=np.linspace(tStart, tEnd, 366),rtol=1e-9, atol=1e-12)"
   ]
  },
  {
   "cell_type": "code",
   "execution_count": 26,
   "id": "2b0461d2-b5b4-49e0-a31c-a137f43af78c",
   "metadata": {},
   "outputs": [],
   "source": [
    "data = {'time': solution.t.tolist(), 'solution': solution.y.tolist()}\n",
    "with open('solution.json', 'w') as f:\n",
    "    json.dump(data, f, indent=4)"
   ]
  },
  {
   "cell_type": "code",
   "execution_count": 34,
   "id": "12dbd9a4-0199-4f08-b7f3-8ea95b4c5581",
   "metadata": {},
   "outputs": [],
   "source": [
    "def f_ODE(t, r):\n",
    "    r1 = r[0:3]\n",
    "    r2 = r[3:6]\n",
    "    r3 = r[6:9]\n",
    "    r4 = r[9:12]\n",
    "    r12 = np.linalg.norm(r1 - r2)\n",
    "    r31 = np.linalg.norm(r3 - r1)\n",
    "    r23 = np.linalg.norm(r2 - r3)\n",
    "    r14 = np.linalg.norm(r1 - r4)\n",
    "    r24 = np.linalg.norm(r2 - r4)\n",
    "    r34 = np.linalg.norm(r3 - r4)\n",
    "    eqr = G * np.array([\n",
    "        - (m2/r12**3 + m3/r31**3) * r1 + m2/r12**3 * r2 + m3/r31**3 * r3,\n",
    "        m1/r12**3 * r1 - (m1/r12**3 + m3/r23**3) * r2 + m3/r23**3 * r3,\n",
    "        m1/r31**3 * r1 + m2/r23**3 * r2 - (m1/r31**3 + m2/r23**3) * r3,\n",
    "        m1/r14**3 * r1 + m2/r24**3 * r2 + m3/r34**3 * r3 - (m1/r14**3 + m2/r24**3 + m3/r34**3) * r4\n",
    "    ])\n",
    "    return np.concatenate([r[12:24], eqr.flatten()])"
   ]
  },
  {
   "cell_type": "code",
   "execution_count": 50,
   "id": "91648295-7e36-471b-bab7-1017af78cfb5",
   "metadata": {},
   "outputs": [],
   "source": [
    "rOrbit = 4.2164e7\n",
    "vOrbit = 3075\n",
    "\n",
    "# sun\n",
    "r1start = np.array([0, 0, 0])\n",
    "v1start = np.array([0, 0, 0])\n",
    "\n",
    "# earth\n",
    "r2start = np.array([rSunEarth, 0, 0])\n",
    "v2start = np.array([0, vEarth, 0])\n",
    "\n",
    "# moon\n",
    "r3start = np.array([rSunEarth, rEarthMoon, 0])\n",
    "v3start = np.array([-vMoon, vEarth, 0])\n",
    "\n",
    "# spaceship\n",
    "r4start = np.array([rSunEarth, rOrbit, 0])\n",
    "v4start = np.array([-1.5*vOrbit, vEarth, 0])\n",
    "\n",
    "r0 = np.concatenate([r1start, r2start, r3start, r4start, v1start, v2start, v3start, v4start])"
   ]
  },
  {
   "cell_type": "code",
   "execution_count": 51,
   "id": "80a7a3af-809c-4ebd-b9be-64052958407c",
   "metadata": {},
   "outputs": [],
   "source": [
    "tStart = 0\n",
    "\n",
    "# 1 year = 60 * 60 * 24 * 365.25 seconds\n",
    "tEnd = 60 * 60 * 24 * 365.25 * 16.0\n",
    "\n",
    "solution = integrate.solve_ivp(f_ODE, [tStart, tEnd], r0, method='RK45', t_eval=np.linspace(tStart, tEnd, 7001),rtol=1e-9, atol=1e-12)"
   ]
  },
  {
   "cell_type": "code",
   "execution_count": 52,
   "id": "dd20886c-bb4c-49f6-bd8d-61c80b235ba4",
   "metadata": {},
   "outputs": [],
   "source": [
    "data = {'time': solution.t.tolist(), 'solution': solution.y.tolist()}\n",
    "with open('solution.json', 'w') as f:\n",
    "    json.dump(data, f, indent=4)"
   ]
  },
  {
   "cell_type": "code",
   "execution_count": null,
   "id": "97201632-6d9b-4c4d-bc0c-4bce99a846ac",
   "metadata": {},
   "outputs": [],
   "source": []
  }
 ],
 "metadata": {
  "kernelspec": {
   "display_name": "Python 3 (ipykernel)",
   "language": "python",
   "name": "python3"
  },
  "language_info": {
   "codemirror_mode": {
    "name": "ipython",
    "version": 3
   },
   "file_extension": ".py",
   "mimetype": "text/x-python",
   "name": "python",
   "nbconvert_exporter": "python",
   "pygments_lexer": "ipython3",
   "version": "3.9.6"
  }
 },
 "nbformat": 4,
 "nbformat_minor": 5
}
