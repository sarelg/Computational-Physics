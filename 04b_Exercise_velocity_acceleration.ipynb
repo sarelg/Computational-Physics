{
 "cells": [
  {
   "cell_type": "markdown",
   "id": "7f9508e6",
   "metadata": {},
   "source": [
    "# Exercise: Derivatives\n",
    "\n",
    "- by Börge Göbel"
   ]
  },
  {
   "cell_type": "code",
   "execution_count": 1,
   "id": "04fafd2c",
   "metadata": {},
   "outputs": [],
   "source": [
    "import numpy as np\n",
    "import matplotlib.pyplot as plt "
   ]
  },
  {
   "cell_type": "markdown",
   "id": "1d7d137f",
   "metadata": {},
   "source": [
    "### Load data"
   ]
  },
  {
   "cell_type": "code",
   "execution_count": 2,
   "id": "eeb0d15b",
   "metadata": {},
   "outputs": [],
   "source": [
    "data = np.loadtxt(\"04b_Exercise_velocity_acceleration_data_file.dat\")"
   ]
  },
  {
   "cell_type": "code",
   "execution_count": 3,
   "id": "c635be8b",
   "metadata": {},
   "outputs": [
    {
     "data": {
      "text/plain": [
       "array([[  0.        ,   1.        ],\n",
       "       [  0.1       ,   1.01980001],\n",
       "       [  0.2       ,   1.03920011],\n",
       "       ...,\n",
       "       [ 99.8       ,  15.25565932],\n",
       "       [ 99.9       ,  15.33160759],\n",
       "       [100.        ,  15.40808206]])"
      ]
     },
     "execution_count": 3,
     "metadata": {},
     "output_type": "execute_result"
    }
   ],
   "source": [
    "data"
   ]
  },
  {
   "cell_type": "code",
   "execution_count": 4,
   "id": "dc649d6e",
   "metadata": {},
   "outputs": [
    {
     "data": {
      "text/plain": [
       "<matplotlib.collections.PathCollection at 0x29b8f3c6520>"
      ]
     },
     "execution_count": 4,
     "metadata": {},
     "output_type": "execute_result"
    },
    {
     "data": {
      "image/png": "[encoded data removed]",
      "text/plain": [
       "<Figure size 432x288 with 1 Axes>"
      ]
     },
     "metadata": {
      "needs_background": "light"
     },
     "output_type": "display_data"
    }
   ],
   "source": [
    "plt.xlabel('Time t [s]')\n",
    "plt.ylabel('Coordinate x [m]')\n",
    "plt.scatter(data[:,0],data[:,1])"
   ]
  },
  {
   "cell_type": "markdown",
   "id": "eb7db420",
   "metadata": {},
   "source": [
    "### Task"
   ]
  },
  {
   "cell_type": "markdown",
   "id": "96ae330b",
   "metadata": {},
   "source": [
    "Calculate the velocity \\\\(v(t)=\\dot{x}(t)\\\\) and the acceleration \\\\(a(t)=\\ddot{x}(t)\\\\) for the loaded data set that describes a set of points \\\\((t_i,x_i)\\\\) for \\\\(i=0,\\dots,1000\\\\).\n",
    "\n",
    "1. Calculate \\\\(v_i\\\\) and \\\\(a_i\\\\) using the forward-differences, central-differences and Richardson methods\n",
    "2. Determine the maximum value of the acceleration and the corresponding time.\n",
    "\n",
    "Be careful, now we do not know the function \\\\(x(t)\\\\) but only its values for specific points. You have to define the functions for the derivativesa bit differently."
   ]
  },
  {
   "cell_type": "markdown",
   "id": "c9c52bff",
   "metadata": {},
   "source": [
    "### Solution"
   ]
  },
  {
   "cell_type": "markdown",
   "id": "e55d98f7-0146-4e1b-9b8a-15595e69e500",
   "metadata": {},
   "source": [
    "Forward differences\n",
    "\\\\( f'(x_n)\\approx\\frac{f(x_{n+1})-f(x_n)}{x_{n+1}-x_n}\\\\)\n",
    "\n",
    "Backward differences\n",
    "\\\\( f'(x)\\approx\\frac{f(x_n)-f(x_{n-1})}{x_n-x_{n-1}}\\\\)\n",
    "\n",
    "Central differences\n",
    "\\\\( f'(x)\\approx\\frac{f(x_{n+1})-f(x_{n-1})}{x_{n+1}-x_{n-1}}\\\\)\n",
    "\n",
    "Richardson: \\\\(f'(x)=\\frac{1}{12h}\\left[f(x-2h)-8f(x-h)+8f(x+h)-f(x+2h)\\right]+\\mathcal{O}(h^4)\\\\)"
   ]
  },
  {
   "cell_type": "code",
   "execution_count": 58,
   "id": "84015415",
   "metadata": {},
   "outputs": [],
   "source": [
    "x = data[:, 1]\n",
    "t = data[:, 0]"
   ]
  },
  {
   "cell_type": "code",
   "execution_count": 69,
   "id": "65ded37e",
   "metadata": {},
   "outputs": [],
   "source": [
    "# v calculation\n",
    "\n",
    "# Forward difference\n",
    "def vFor(x, t):\n",
    "    v = np.zeros(len(x))\n",
    "    for n in range(len(x) - 1):\n",
    "        v[n] = (x[n+1] - x[n]) / (t[n+1] - t[n])\n",
    "    return v\n",
    "\n",
    "# Backward difference\n",
    "def vBack(x, t):\n",
    "    v = np.zeros(len(x))\n",
    "    for n in range(1, len(x)):\n",
    "        v[n] = (x[n] - x[n-1]) / (t[n] - t[n-1])\n",
    "    return v\n",
    "\n",
    "# Central difference\n",
    "def vCent(x, t):\n",
    "    v = np.zeros(len(x))\n",
    "    for n in range(1, len(x) - 1):\n",
    "        v[n] = (x[n+1] - x[n-1]) / (t[n+1] - t[n-1])\n",
    "    return v\n",
    "\n",
    "# Richardson method\n",
    "def vRichardson(x, t):\n",
    "    v = np.zeros(len(x))\n",
    "    for n in range(2, len(x) - 2):\n",
    "        v[n] = (x[n-2] - 8*x[n-1] + 8*x[n+1] - x[n+2]) / (12*(t[n+1] - t[n]))\n",
    "    return v"
   ]
  },
  {
   "cell_type": "code",
   "execution_count": 73,
   "id": "3d42bac5",
   "metadata": {},
   "outputs": [
    {
     "data": {
      "text/plain": [
       "[<matplotlib.lines.Line2D at 0x29b91081ee0>]"
      ]
     },
     "execution_count": 73,
     "metadata": {},
     "output_type": "execute_result"
    },
    {
     "data": {
      "image/png": "[encoded data removed]",
      "text/plain": [
       "<Figure size 432x288 with 1 Axes>"
      ]
     },
     "metadata": {
      "needs_background": "light"
     },
     "output_type": "display_data"
    }
   ],
   "source": [
    "plt.xlabel('t')\n",
    "plt.ylabel('v')\n",
    "plt.xlim(t[3], t[-3])\n",
    "\n",
    "plt.plot(t, vFor(x, t))\n",
    "plt.plot(t, vBack(x, t))\n",
    "plt.plot(t, vCent(x, t))\n",
    "plt.plot(t, vRichardson(x, t))"
   ]
  },
  {
   "cell_type": "markdown",
   "id": "221841b3-bcf2-4a24-9263-cf1d139652a7",
   "metadata": {},
   "source": [
    "- Double forward & double backward\n",
    "\n",
    "\\\\(f''(x)=\\lim_{h\\rightarrow 0}\\frac{\\left[f(x+2h)-f(x+h)\\right]-\\left[f(x+h)-f(x)\\right]}{h^2}=\\lim_{h\\rightarrow 0}\\frac{f(x+2h)-2f(x+h)+f(x)}{h^2}\\\\)\n",
    "\n",
    "\\\\(f''(x)=\\lim_{h\\rightarrow 0}\\frac{\\left[f(x)-f(x-h)\\right]-\\left[f(x-h)-f(x-2h)\\right]}{h^2}=\\lim_{h\\rightarrow 0}\\frac{f(x)-2f(x-h)+f(x-2h)}{h^2}\\\\)\n",
    "\n",
    "- Forward and backward\n",
    "\n",
    "\\\\(f''(x)=\\lim_{h\\rightarrow 0}\\frac{\\left[f(x+h)-f(x)\\right]-\\left[f(x)-f(x-h)\\right]}{h^2}=\\lim_{h\\rightarrow 0}\\frac{f(x+h)-2f(x)+f(x-h)}{h^2}\\\\)\n",
    "\n",
    "- Double central (same result as forward and backward for \\\\(2h=g\\\\))\n",
    "\n",
    "\\\\(f''(x)=\\lim_{h\\rightarrow 0}\\frac{\\left[f(x+2h)-f(x)\\right]-\\left[f(x)-f(x-2h)\\right]}{(2h)^2}=\\lim_{h\\rightarrow 0}\\frac{f(x+2h)-2f(x)+f(x-2h)}{4h^2}=\\lim_{g\\rightarrow 0}\\frac{f(x+g)-2f(x)+f(x-g)}{g^2}\\\\)\n",
    "\n",
    "Richardson: \\\\(f''(x)=\\frac{1}{12h^2}\\left[-f(x-2h)+16f(x-h)-30f(x)+16f(x+h)-f(x+2h)\\right]+\\mathcal{O}(h^4)\\\\)"
   ]
  },
  {
   "cell_type": "code",
   "execution_count": 87,
   "id": "aef24a49-daec-4cd7-8bf6-9e4e0b7c1542",
   "metadata": {},
   "outputs": [],
   "source": [
    "# a calculation\n",
    "\n",
    "# Forward difference\n",
    "def aFor(x, t):\n",
    "    a = np.zeros(len(x))\n",
    "    for n in range(len(x) - 2):\n",
    "        a[n] = (x[n+2] - 2*x[n+1] + x[n]) / (t[n+1] - t[n])**2\n",
    "    return a\n",
    "\n",
    "# Backward difference\n",
    "def aBack(x, t):\n",
    "    a = np.zeros(len(x))\n",
    "    for n in range(2, len(x)):\n",
    "        a[n] = (x[n] - 2*x[n-1] + x[n-2]) / (t[n] - t[n-1])**2\n",
    "    return a\n",
    "\n",
    "# Central difference\n",
    "def aCent(x, t):\n",
    "    a = np.zeros(len(x))\n",
    "    for n in range(1, len(x) - 1):\n",
    "        a[n] = (x[n+1] - 2*x[n] + x[n-1]) / (t[n+1] - t[n])**2\n",
    "    return a\n",
    "\n",
    "# Richardson method\n",
    "def aRichardson(x, t):\n",
    "    a = np.zeros(len(x))\n",
    "    for n in range(2, len(x) - 2):\n",
    "        a[n] = (-x[n-2] + 16*x[n-1] - 30*x[n] + 16*x[n+1] - x[n+2]) / (12*(t[n+1] - t[n])**2)\n",
    "    return a"
   ]
  },
  {
   "cell_type": "code",
   "execution_count": 88,
   "id": "558c9b30-e849-45af-bede-01309377686a",
   "metadata": {},
   "outputs": [
    {
     "data": {
      "text/plain": [
       "<matplotlib.legend.Legend at 0x29b9393c8e0>"
      ]
     },
     "execution_count": 88,
     "metadata": {},
     "output_type": "execute_result"
    },
    {
     "data": {
      "image/png": "[encoded data removed]",
      "text/plain": [
       "<Figure size 432x288 with 1 Axes>"
      ]
     },
     "metadata": {
      "needs_background": "light"
     },
     "output_type": "display_data"
    }
   ],
   "source": [
    "plt.xlabel('t')\n",
    "plt.ylabel('a')\n",
    "plt.xlim(t[3], t[-3])\n",
    "\n",
    "plt.plot(t, aFor(x, t), label='Forward')\n",
    "plt.plot(t, aBack(x, t), label='Backward')\n",
    "plt.plot(t, aCent(x, t), label='Central')\n",
    "plt.plot(t, aRichardson(x, t), label='Richardson')\n",
    "plt.legend()"
   ]
  },
  {
   "cell_type": "code",
   "execution_count": 98,
   "id": "bfce1b18-df83-4729-a7ec-f92a58aac2f9",
   "metadata": {},
   "outputs": [
    {
     "name": "stdout",
     "output_type": "stream",
     "text": [
      "Maximum a: 0.05889833615099504\n",
      "at t: 79.60000000000001\n"
     ]
    }
   ],
   "source": [
    "afor = aFor(x, t)\n",
    "aback = aBack(x, t)\n",
    "acent = aCent(x, t)\n",
    "arich = aRichardson(x, t)\n",
    "\n",
    "max_ind_a = np.argmax(arich)\n",
    "\n",
    "print('Maximum a:', arich[max_ind_a])\n",
    "print('at t:', t[max_ind_a])"
   ]
  },
  {
   "cell_type": "code",
   "execution_count": 91,
   "id": "be280502-e72e-4b18-beab-461d8e234471",
   "metadata": {},
   "outputs": [
    {
     "data": {
      "text/plain": [
       "array([0., 0., 0., ..., 0., 0., 0.])"
      ]
     },
     "execution_count": 91,
     "metadata": {},
     "output_type": "execute_result"
    }
   ],
   "source": []
  },
  {
   "cell_type": "code",
   "execution_count": null,
   "id": "4380020b-2700-4949-812a-5bde947c30f2",
   "metadata": {},
   "outputs": [],
   "source": []
  }
 ],
 "metadata": {
  "kernelspec": {
   "display_name": "Python 3 (ipykernel)",
   "language": "python",
   "name": "python3"
  },
  "language_info": {
   "codemirror_mode": {
    "name": "ipython",
    "version": 3
   },
   "file_extension": ".py",
   "mimetype": "text/x-python",
   "name": "python",
   "nbconvert_exporter": "python",
   "pygments_lexer": "ipython3",
   "version": "3.9.6"
  }
 },
 "nbformat": 4,
 "nbformat_minor": 5
}
